{
 "cells": [
  {
   "cell_type": "code",
   "execution_count": 1,
   "id": "4ebb0e25",
   "metadata": {},
   "outputs": [
    {
     "name": "stdout",
     "output_type": "stream",
     "text": [
      "54.44310405643739\n"
     ]
    }
   ],
   "source": [
    "#1 Написать функцию, вычисляющую n-ю частичную сумму ряда Телора\n",
    "#(Маклорена) функции для произвольно заданного значения аргумента x\n",
    " \n",
    "function exp_partial_sum(x::Real, n::Int)\n",
    "    sum = 0.0 \n",
    "    term = 1.0\n",
    "    for i in 0:n\n",
    "        sum += term\n",
    "        term *= x / (i + 1)\n",
    "    end\n",
    "    return sum\n",
    "end\n",
    " \n",
    "println(exp_partial_sum(4.0, 10))"
   ]
  },
  {
   "cell_type": "code",
   "execution_count": 2,
   "id": "5eb2dd59",
   "metadata": {},
   "outputs": [
    {
     "name": "stdout",
     "output_type": "stream",
     "text": [
      "54.598150033144265\n"
     ]
    }
   ],
   "source": [
    "#2 Написать функцию, вычиляющую значение с машинной точностью (с\n",
    "# максимально возможной в арифметике с плавающей точкой)\n",
    "\n",
    "function exp_with_max_precision(x)\n",
    "    y = 1.0\n",
    "    term = 1.0\n",
    "    k = 1\n",
    "    while y + term != y\n",
    "        term *= x / k\n",
    "        y += term\n",
    "        k += 1\n",
    "    end\n",
    "    return y\n",
    "end\n",
    " \n",
    "println(exp_with_max_precision(4.0))"
   ]
  },
  {
   "cell_type": "code",
   "execution_count": 3,
   "id": "0e312137",
   "metadata": {},
   "outputs": [
    {
     "name": "stderr",
     "output_type": "stream",
     "text": [
      "\u001b[32m\u001b[1m    Updating\u001b[22m\u001b[39m registry at `C:\\Users\\timch\\.julia\\registries\\General.toml`\n",
      "\u001b[32m\u001b[1m   Resolving\u001b[22m\u001b[39m package versions...\n",
      "\u001b[32m\u001b[1m  No Changes\u001b[22m\u001b[39m to `C:\\Users\\timch\\.julia\\environments\\v1.8\\Project.toml`\n",
      "\u001b[32m\u001b[1m  No Changes\u001b[22m\u001b[39m to `C:\\Users\\timch\\.julia\\environments\\v1.8\\Manifest.toml`\n"
     ]
    },
    {
   "source": [
    "#4 Реализовать алгорим, реализующий обратный ход алгоритма Жордана-Гаусса\n",
    "\n",
    "Pkg.add(\"LinearAlgebra\")\n",
    "using LinearAlgebra\n",
    "function shordan_gauss(A::AbstractMatrix{T}, b::AbstractVector{T})::AbstractVector{T} where T\n",
    "    @assert size(A, 1) == size(A, 2)\n",
    "    n = size(A, 1) \n",
    "    x = zeros(T, n)\n",
    " \n",
    "    for i in n:-1:1\n",
    "        x[i] = b[i]\n",
    "        for j in i+1:n\n",
    "            x[i] =fma(-x[j] ,A[i,j] , x[i]) \n",
    "        end\n",
    "        x[i] /= A[i,i]\n",
    "    end\n",
    "    return x\n",
    "end"
   ]
  },
  {
   "cell_type": "code",
   "execution_count": 5,
   "id": "063911bf",
   "metadata": {},
   "outputs": [
    {
     "data": {
      "text/plain": [
       "TransformToSteps! (generic function with 2 methods)"
      ]
     },
     "execution_count": 5,
     "metadata": {},
     "output_type": "execute_result"
    }
   ],
   "source": [
    "#5 Реализовать алгоритм, осуществляющий приведение матрицы матрицы к ступенчатому виду\n",
    "\n",
    "function TransformToSteps!(matrix::AbstractMatrix, epsilon::Real = 1e-7)::AbstractMatrix\n",
    "    @inbounds for k in range(1:size(matrix, 1))\n",
    "        absval, Δk = findmax(abs, @view(matrix[k:end,k]))\n",
    "\n",
    "        (absval <= epsilon) && throw(\"vyroshd matrix\")\n",
    "\n",
    "        Δk > 1 && swap!(@view(matrix[k,k:end]), @view(matrix[k+Δk-1,k:end]))\n",
    "\n",
    "        for i in k+1:size(matrix,1)\n",
    "            t = matrix[i,k]/matrix[k,k]\n",
    "            @. @views matrix[i,k:end] = matrix[i,k:end] - t * matrix[k,k:end] \n",
    "        end\n",
    "    end\n",
    "\n",
    "    return matrix\n",
    "end"
   ]
  },
  {
   "cell_type": "code",
   "execution_count": 6,
   "id": "b5be6779",
   "metadata": {},
   "outputs": [
    {
     "data": {
      "text/plain": [
       "ReverseGauss! (generic function with 1 method)"
      ]
     },
     "execution_count": 6,
     "metadata": {},
     "output_type": "execute_result"
    }
   ],
   "source": [
    "#6 Реализовать алгоритм, реализующий метод Жордана-Гаусса решение СЛАУ для произвольной невырожденной матрицы\n",
    "\n",
    "@inline function sumprod(vec1::AbstractVector{T}, vec2::AbstractVector{T})::T where T\n",
    "    s = zero(T)\n",
    "    @inbounds for i in eachindex(vec1)\n",
    "    s = fma(vec1[i], vec2[i], s) # fma(x, y, z) = x*y = z\n",
    "    end\n",
    "    return s\n",
    "end\n",
    " \n",
    "function ReverseGauss!(matrix::AbstractMatrix{T}, vec::AbstractVector{T})::AbstractVector{T} where T\n",
    "\n",
    " \n",
    "    x = similar(vec)\n",
    "    N = size(matrix, 1)\n",
    " \n",
    "    for k in 0:N-1\n",
    "\n",
    "        x[N-k] = (vec[N-k] - sumprod(@view(matrix[N-k,N-k+1:end]), @view(x[N-k+1:end]))) / matrix[N-k,N-k]\n",
    "    end\n",
    " \n",
    "    return x\n",
    "end"
   ]
  },
  {
   "cell_type": "code",
   "execution_count": 7,
   "id": "91853517",
   "metadata": {},
   "outputs": [
    {
     "name": "stdout",
     "output_type": "stream",
     "text": [
      "Matrix with order 50x50:\n",
      "  0.000016 seconds (4 allocations: 20.578 KiB)\n",
      "  0.000013 seconds (4 allocations: 20.578 KiB)\n",
      "Matrix with order 100x100:\n",
      "  0.000033 seconds (4 allocations: 79.922 KiB)\n",
      "  0.000028 seconds (4 allocations: 79.922 KiB)\n",
      "Matrix with order 150x150:\n",
      "  0.000060 seconds (4 allocations: 178.516 KiB)\n",
      "  0.000058 seconds (4 allocations: 178.516 KiB)\n",
      "Matrix with order 200x200:\n",
      "  0.000107 seconds (4 allocations: 316.078 KiB)\n",
      "  0.000102 seconds (4 allocations: 316.078 KiB)\n",
      "Matrix with order 250x250:\n",
      "  0.000163 seconds (4 allocations: 492.484 KiB)\n",
      "  0.000158 seconds (4 allocations: 492.484 KiB)\n",
      "Matrix with order 300x300:\n",
      "  0.000475 seconds (4 allocations: 708.172 KiB)\n",
      "  0.000492 seconds (4 allocations: 708.172 KiB)\n",
      "Matrix with order 350x350:\n",
      "  0.000685 seconds (4 allocations: 962.859 KiB)\n",
      "  0.000701 seconds (4 allocations: 962.859 KiB)\n",
      "Matrix with order 400x400:\n",
      "  0.000626 seconds (4 allocations: 1.227 MiB)\n",
      "  0.000605 seconds (4 allocations: 1.227 MiB)\n",
      "Matrix with order 450x450:\n",
      "  0.000774 seconds (4 allocations: 1.552 MiB)\n",
      "  0.000772 seconds (4 allocations: 1.552 MiB)\n",
      "Matrix with order 500x500:\n",
      "  0.000955 seconds (4 allocations: 1.915 MiB)\n",
      "  0.000915 seconds (4 allocations: 1.915 MiB)\n",
      "Matrix with order 550x550:\n",
      "  0.001141 seconds (4 allocations: 2.317 MiB)\n",
      "  0.001770 seconds (4 allocations: 2.317 MiB)\n",
      "Matrix with order 600x600:\n",
      "  0.001677 seconds (4 allocations: 2.756 MiB)\n",
      "  0.001503 seconds (4 allocations: 2.756 MiB)\n",
      "Matrix with order 650x650:\n",
      "  0.001657 seconds (4 allocations: 3.234 MiB)\n",
      "  0.001776 seconds (4 allocations: 3.234 MiB)\n",
      "Matrix with order 700x700:\n",
      "  0.001958 seconds (4 allocations: 3.749 MiB)\n",
      "  0.001907 seconds (4 allocations: 3.749 MiB)\n",
      "Matrix with order 750x750:\n",
      "  0.002717 seconds (4 allocations: 4.303 MiB)\n",
      "  0.002208 seconds (4 allocations: 4.303 MiB)\n",
      "Matrix with order 800x800:\n",
      "  0.002596 seconds (4 allocations: 4.895 MiB)\n",
      "  0.016989 seconds (4 allocations: 4.895 MiB, 85.53% gc time)\n",
      "Matrix with order 850x850:\n",
      "  0.003585 seconds (4 allocations: 5.526 MiB)\n",
      "  0.002908 seconds (4 allocations: 5.526 MiB)\n",
      "Matrix with order 900x900:\n",
      "  0.003301 seconds (4 allocations: 6.194 MiB)\n",
      "  0.003212 seconds (4 allocations: 6.194 MiB)\n",
      "Matrix with order 950x950:\n",
      "  0.004239 seconds (4 allocations: 6.900 MiB)\n",
      "  0.003854 seconds (4 allocations: 6.900 MiB)\n",
      "Matrix with order 1000x1000:\n",
      "  0.005058 seconds (4 allocations: 7.645 MiB)\n",
      "  0.004424 seconds (4 allocations: 7.645 MiB)\n"
     ]
    }
   ],
   "source": [
    "#7 Постараться обеспечить максимально возможную производительность\n",
    "#алгорима решения СЛАУ; провести временные замеры с помощью макроса\n",
    "#@time для систем большого размера\n",
    "\n",
    "for n in 50:50:1000\n",
    "    println(\"Matrix with order \",n,\"x\",n,\":\")\n",
    "    @time shordan_gauss(randn(n,n),randn(n))\n",
    "    @time ReverseGauss!(randn(n,n),randn(n))\n",
    "end"
   ]
  },
  {
   "cell_type": "code",
   "execution_count": 8,
   "id": "50833748",
   "metadata": {},
   "outputs": [
    {
     "data": {
      "text/plain": [
       "rank! (generic function with 2 methods)"
      ]
     },
     "execution_count": 8,
     "metadata": {},
     "output_type": "execute_result"
    }
   ],
   "source": [
    "#8 Написать функцию, возвращающую ранг произвольной прямоугольной матрицы\n",
    "\n",
    "function rank!(matrix::AbstractMatrix{T},epsilon::Real = 1e-7) where T\n",
    "    TransformToSteps!(Matrix)\n",
    " \n",
    "    i = 1\n",
    " \n",
    "    while abs(matrix[i,i]) <= epsilon\n",
    "        i+=1\n",
    "    end\n",
    " \n",
    "    return i-1\n",
    "end"
   ]
  },
  {
   "cell_type": "code",
   "execution_count": 9,
   "id": "2fefed08",
   "metadata": {},
   "outputs": [
    {
     "name": "stdout",
     "output_type": "stream",
     "text": [
      "--Matrix--\n"
     ]
    },
    {
     "data": {
      "text/plain": [
       "3×3 Matrix{Float64}:\n",
       "  1.0  2.0  3.0\n",
       "  1.0  6.0  9.0\n",
       " -1.0  2.0  4.0"
      ]
     },
     "metadata": {},
     "output_type": "display_data"
    },
    {
     "name": "stdout",
     "output_type": "stream",
     "text": [
      "--Sv chleny--\n"
     ]
    },
    {
     "data": {
      "text/plain": [
       "3-element Vector{Float64}:\n",
       " -1.0\n",
       "  2.0\n",
       "  2.0"
      ]
     },
     "metadata": {},
     "output_type": "display_data"
    },
    {
     "name": "stdout",
     "output_type": "stream",
     "text": [
      "--Obr Gauss--\n"
     ]
    },
    {
     "data": {
      "text/plain": [
       "3-element Vector{Float64}:\n",
       " -1.6666666666666665\n",
       " -0.4166666666666667\n",
       "  0.5"
      ]
     },
     "metadata": {},
     "output_type": "display_data"
    }
   ],
   "source": [
    "#9  Написать функцию, возвращающую определитель произвольной квадратной матрицы\n",
    "\n",
    "function determinant!(matrix::AbstractMatrix{T}) where T\n",
    "    #@assert for chesk\n",
    "    TransformToSteps!(matrix)\n",
    " \n",
    "    det = oneunit(T)\n",
    "    i = 1\n",
    " \n",
    "    while i <= size(matrix, 1)\n",
    "        if matrix[i, i] == zero(T)\n",
    "            break\n",
    "        end\n",
    " \n",
    "        det *= matrix[i, i]\n",
    " \n",
    "        i += 1\n",
    "    end\n",
    " \n",
    "    return det\n",
    "end\n",
    " \n",
    "#Tests\n",
    "matrix = [1.0 2.0 3.0;1.0 6.0 9.0;-1.0 2.0 4.0]\n",
    "values = [-1.0, 2.0, 2.0]\n",
    "println(\"--Matrix--\")\n",
    "display(matrix)\n",
    "println(\"--Sv chleny--\")\n",
    "display(values)\n",
    "println(\"--Obr Gauss--\")\n",
    "display(ReverseGauss!(matrix,values)) "
   ]
  }
 ],
 "metadata": {
  "kernelspec": {
   "display_name": "Julia 1.8.1",
   "language": "julia",
   "name": "julia-1.8"
  },
  "language_info": {
   "file_extension": ".jl",
   "mimetype": "application/julia",
   "name": "julia",
   "version": "1.8.1"
  }
 },
 "nbformat": 4,
 "nbformat_minor": 5
}
