{
 "cells": [
  {
   "cell_type": "code",
   "execution_count": 1,
   "id": "772f1b5e",
   "metadata": {},
   "outputs": [
    {
     "name": "stderr",
     "output_type": "stream",
     "text": [
      "\u001b[32m\u001b[1m    Updating\u001b[22m\u001b[39m registry at `C:\\Users\\timch\\.julia\\registries\\General.toml`\n",
      "\u001b[32m\u001b[1m   Resolving\u001b[22m\u001b[39m package versions...\n",
      "\u001b[32m\u001b[1m  No Changes\u001b[22m\u001b[39m to `C:\\Users\\timch\\.julia\\environments\\v1.8\\Project.toml`\n",
      "\u001b[32m\u001b[1m  No Changes\u001b[22m\u001b[39m to `C:\\Users\\timch\\.julia\\environments\\v1.8\\Manifest.toml`\n",
      "\u001b[32m\u001b[1m   Resolving\u001b[22m\u001b[39m package versions...\n",
      "\u001b[32m\u001b[1m  No Changes\u001b[22m\u001b[39m to `C:\\Users\\timch\\.julia\\environments\\v1.8\\Project.toml`\n",
      "\u001b[32m\u001b[1m  No Changes\u001b[22m\u001b[39m to `C:\\Users\\timch\\.julia\\environments\\v1.8\\Manifest.toml`\n"
     ]
    },
    {
     "data": {
      "text/plain": [
       "clear (generic function with 1 method)"
      ]
     },
     "execution_count": 1,
     "metadata": {},
     "output_type": "execute_result"
    }
   ],
   "source": [
    "#1. Спроектировать типы Vector2D и Segment2D с соответсвующими функциями.\n",
    "\n",
    "import Pkg\n",
    "Pkg.add(\"Plots\")\n",
    "Pkg.add(\"LinearAlgebra\")\n",
    "using Plots\n",
    "using LinearAlgebra\n",
    "\n",
    "Vector2D{T <: Real} = NamedTuple{(:x, :y), Tuple{T,T}}\n",
    "\n",
    "Base. +(a::Vector2D{T},b::Vector2D{T}) where T = Vector2D{T}(Tuple(a) .+ Tuple(b))\n",
    "Base. -(a::Vector2D{T}, b::Vector2D{T}) where T = Vector2D{T}(Tuple(a) .- Tuple(b))\n",
    "Base. *(α::T, a::Vector2D{T}) where T = Vector2D{T}(α.*Tuple(a))\n",
    "\n",
    "# norm(a) - длина вектора, эта функция опредедена в LinearAlgebra\n",
    "LinearAlgebra.norm(a::Vector2D) = norm(Tuple(a))\n",
    "\n",
    "# dot(a,b)=|a||b|cos(a,b) - скалярное произведение, эта функция определена в LinearAlgebra\n",
    "LinearAlgebra.dot(a::Vector2D{T}, b::Vector2D{T}) where T = dot(Tuple(a), Tuple(b))\n",
    "\n",
    "Base. cos(a::Vector2D{T}, b::Vector2D{T}) where T = dot(a,b)/norm(a)/norm(b)\n",
    "\n",
    "# xdot(a,b)=|a||b|sin(a,b) - косое произведение\n",
    "xdot(a::Vector2D{T}, b::Vector2D{T}) where T = a.x*b.y-a.y*b.x\n",
    "\n",
    "Base.sin(a::Vector2D{T}, b::Vector2D{T}) where T = xdot(a,b)/norm(a)/norm(b)\n",
    "Base.angle(a::Vector2D{T}, b::Vector2D{T}) where T = atan(sin(a,b),cos(a,b))\n",
    "Base.sign(a::Vector2D{T}, b::Vector2D{T}) where T = sign(sin(a,b))\n",
    "\n",
    "Segment2D{T <: Real} = NamedTuple{(:A, :B), NTuple{2,Vector2D{T}}}\n",
    "\n",
    "#= Отрисовка =#\n",
    "stored_lims = [0,0,0,0]\n",
    "\n",
    "function lims!(x1,y1,x2,y2)\n",
    "    stored_lims[1] = min(x1-1,stored_lims[1])\n",
    "    stored_lims[2] = min(y1-1,stored_lims[2])\n",
    "    stored_lims[3] = max(x2+1,stored_lims[3])\n",
    "    stored_lims[4] = max(y2+1,stored_lims[4])\n",
    "\n",
    "    xlims!(stored_lims[1], stored_lims[3])\n",
    "    ylims!(stored_lims[2], stored_lims[4])\n",
    "end\n",
    "\n",
    "lims!(x,y) = lims!(x,y,x,y)\n",
    "\n",
    "function draw(vertices::AbstractArray{Vector2D{T}}) where T\n",
    "    vertices = copy(vertices)\n",
    "    push!(vertices,first(vertices))\n",
    "\n",
    "    x = [v.x for v in vertices]\n",
    "    y = [v.y for v in vertices]\n",
    "\n",
    "    plot(x, y, color=:blue, legend=false)\n",
    "\n",
    "    lims!( minimum(x) , minimum(y) , maximum(x) , maximum(y) )\n",
    "end\n",
    "\n",
    "function draw(point::Segment2D{T}) where T\n",
    "    plot([point.A.x,point.B.x], [point.A.y,point.B.y], color=:yellow, legend=false)\n",
    "\n",
    "    lims!( min(point.A.x,point.B.x) , min(point.A.y,point.B.y) , max(point.A.x,point.B.x) , max(point.A.y,point.B.y) )\n",
    "end\n",
    "\n",
    "function draw(point::Vector2D{T}) where T\n",
    "    scatter!([point.x,point.x], [point.y,point.y], color=:red, markersize=5, legend=false)\n",
    "\n",
    "    lims!( point.x , point.y )\n",
    "end\n",
    "\n",
    "function clear()\n",
    "    fill!(stored_lims,0)\n",
    "\n",
    "    xlims!(0,1)\n",
    "    ylims!(0,1)\n",
    "\n",
    "    plot!()\n",
    "end"
   ]
  },
  {
   "cell_type": "code",
   "execution_count": 2,
   "id": "4f51560b",
   "metadata": {},
   "outputs": [
    {
     "data": {
      "text/plain": [
       "oneside (generic function with 1 method)"
      ]
     },
     "execution_count": 2,
     "metadata": {},
     "output_type": "execute_result"
    }
   ],
   "source": [
    "#2. Написать функцию, проверяющую, лежат ли две заданные точки по одну сторону от заданной прямой \n",
    "#(прямая задается некоторым содержащимся в ней отрезком).\n",
    "\n",
    "function oneside(P::Vector2D{T}, Q::Vector2D{T}, s::Segment2D{T})::Bool where T\n",
    "    # l - направляющий вектор прямой\n",
    "    l = s.B - s.A\n",
    "\n",
    "# Тогда, точки , лежат по одну сторону от прямой <=> когда угол между векторами имеют один и тот же знак \n",
    "#(отложены в одну и ту же сторону от прямой)\n",
    "    return sin(l, P-s.A) * sin(l,Q-s.A) > 0\n",
    "end"
   ]
  },
  {
   "cell_type": "code",
   "execution_count": 3,
   "id": "e5f6ce87",
   "metadata": {},
   "outputs": [
    {
     "data": {
      "text/plain": [
       "oneside (generic function with 2 methods)"
      ]
     },
     "execution_count": 3,
     "metadata": {},
     "output_type": "execute_result"
    }
   ],
   "source": [
    "#3. Написать функцию, проверяющую, лежат ли две заданные точки по одну сторону от заданной кривой \n",
    "#(кривая задается уравнением вида F(x,y) = 0).\n",
    "\n",
    "oneside(F::Function, P::Vector2D, Q::Vector2D)::Bool =\n",
    "    ( F(P...) * F(Q...) > 0 )"
   ]
  },
  {
   "cell_type": "code",
   "execution_count": 4,
   "id": "f5dfe17c",
   "metadata": {},
   "outputs": [
    {
     "name": "stdout",
     "output_type": "stream",
     "text": [
      "Пересечение: (x = 0.14285714285714285, y = 0.7142857142857143)\n"
     ]
    }
   ],
   "source": [
    "#4. Написать функцию, возвращающую точку пересечения (если она существует) двух заданных отрезков.\n",
    "\n",
    "isinner(P::Vector2D, s::Segment2D)::Bool =\n",
    "    (s.A.x <= P.x <= s.B.x || s.A.x >= P.x >= s.B.x) &&\n",
    "    (s.A.y <= P.y <= s.B.y || s.A.y >= P.y >= s.B.y)\n",
    "\n",
    "function intersection(s1::Segment2D{T},s2::Segment2D{T})::Union{Vector2D{T},Nothing} where T\n",
    "    A = [s1.B[2]-s1.A[2] s1.A[1]-s1.B[1]\n",
    "        s2.B[2]-s2.A[2] s2.A[1]-s2.B[1]]\n",
    "\n",
    "    b = [s1.A[2]*(s1.A[1]-s1.B[1]) + s1.A[1]*(s1.B[2]-s1.A[2])\n",
    "        s2.A[2]*(s2.A[1]-s2.B[1]) + s2.A[1]*(s2.B[2]-s2.A[2])]\n",
    "\n",
    "    x,y = A\\b\n",
    "\n",
    "    if isinner((;x, y), s1)==false || isinner((;x, y), s2)==false\n",
    "        return nothing\n",
    "    end\n",
    "\n",
    "    return (;x, y) #Vector2D{T}((x,y))\n",
    "end\n",
    "\n",
    "println(\"Пересечение: \",intersection( (A=(x=-1.0,y=-1.0),B=(x=1.0,y=2.0)) , (A=(x=1.0,y=-1.0),B=(x=-1.0,y=3.0)) ))\n"
   ]
  },
  {
   "cell_type": "code",
   "execution_count": 5,
   "id": "4b0c9755",
   "metadata": {},
   "outputs": [
    {
     "name": "stdout",
     "output_type": "stream",
     "text": [
      "Внутри: true\n",
      "Внутри: false\n"
     ]
    }
   ],
   "source": [
    "#5. Написать функцию, проверяющую лежит ли заданная точка внутри заданного многоугольника.\n",
    "\n",
    "function isinside(point::Vector2D{T},polygon::AbstractArray{Vector2D{T}})::Bool where T\n",
    "    @assert length(polygon) > 2\n",
    "\n",
    "    sum = zero(Float64)\n",
    "\n",
    "    # Вычислить алгебраическую (т.е. с учетом знака) сумму углов, между направлениями из заданной точки на каждые две сосоедние \n",
    "    #вершины многоугольника.\n",
    "    # Далее воспользоваться тем, что, если полученная сумма окажется равнной нулю, то точка лежит вне многоугольника, а если \n",
    "    #она окажется равной 360 градусам, то - внутри.\n",
    "    for i in firstindex(polygon):lastindex(polygon)\n",
    "        sum += angle( polygon[i] - point , polygon[i % lastindex(polygon) + 1] - point )\n",
    "    end\n",
    "\n",
    "    return abs(sum) > π\n",
    "end\n",
    "\n",
    "println(\"Внутри: \",isinside( (x=0,y=0),[(x=0,y=1),(x=1,y=-1),(x=-1,y=-1)] ))\n",
    "println(\"Внутри: \",isinside( (x=5,y=0),[(x=0,y=1),(x=1,y=-1),(x=-1,y=-1)] ))"
   ]
  },
  {
   "cell_type": "code",
   "execution_count": 6,
   "id": "2f30c89f",
   "metadata": {},
   "outputs": [
    {
     "name": "stdout",
     "output_type": "stream",
     "text": [
      "Выпуклый: true\n"
     ]
    }
   ],
   "source": [
    "#6. Написать функцию, проверяющую, является ли заданный многоугольник выпуклым.\n",
    "\n",
    "function isconvex(polygon::AbstractArray{Vector2D{T}})::Bool where T\n",
    "    @assert length(polygon) > 2\n",
    "\n",
    "    for i in firstindex(polygon):lastindex(polygon)\n",
    "        # У выпуклого многоугольника все внутренние углы будут меньше 180 градусов.\n",
    "        # А у не выпуклого многоугольника обязательно найдутся, как углы меньшие, так и большие 180 градусов\n",
    "        if angle( polygon[i > firstindex(polygon) ? i - 1 : lastindex(polygon)] - polygon[i] , polygon[i % lastindex(polygon) + 1] - polygon[i] ) >= π\n",
    "            return false\n",
    "        end\n",
    "    end\n",
    "\n",
    "    return true\n",
    "end\n",
    "\n",
    "println(\"Выпуклый: \",isconvex( [\n",
    "        (x=0,y=1),\n",
    "        (x=1,y=-1),\n",
    "        (x=-1,y=-1)\n",
    "    ] ))"
   ]
  },
  {
   "cell_type": "code",
   "execution_count": 7,
   "id": "954f9a8b",
   "metadata": {},
   "outputs": [
    {
     "name": "stdout",
     "output_type": "stream",
     "text": [
      "Алгоритм Джарвиса: NamedTuple{(:x, :y), Tuple{Float64, Float64}}[(x = 0.0, y = 0.0), (x = 5.0, y = 1.0), (x = 1.0, y = 9.0), (x = -3.0, y = 8.0), (x = -5.0, y = 2.0)]\n"
     ]
    }
   ],
   "source": [
    "#7. Написать функцию, реализующую алгоритм Джарвиса\n",
    "\n",
    "function jarvis!(points::AbstractArray{Vector2D{T}})::AbstractArray{Vector2D{T}} where T\n",
    "\n",
    "    function next!(convex_shell2::AbstractVector{Int64}, points2::AbstractVector{Vector2D{T}}, ort_base::Vector2D{T})::Int64 where T\n",
    "        cos_max = typemin(T)\n",
    "        i_base = convex_shell2[end]\n",
    "        resize!(convex_shell2, length(convex_shell2) + 1)\n",
    "        for i in eachindex(points2)\n",
    "            if points2[i] == points2[i_base] # тут не обязательно, что i == i_base\n",
    "                continue\n",
    "            end\n",
    "            ort_i = points2[i] - points2[i_base] # - не нулевой вектор, задающий направление на очередную точку\n",
    "            cos_i = cos(ort_base, ort_i)\n",
    "            if cos_i > cos_max\n",
    "                cos_max = cos_i\n",
    "                convex_shell2[end] = i\n",
    "            elseif cos_i == cos_max && dot(ort_i, ort_i) > dot(ort_base, ort_base) # на луче, содержащем сторону выпуклого многоугольника, может оказаться более двух точек заданного множества (надо выбрать самую дальнюю из них)\n",
    "                convex_shell2[end] = i\n",
    "            end\n",
    "        end\n",
    "        return convex_shell2[end]\n",
    "    end\n",
    "\n",
    "    @assert length(points) > 1\n",
    "    ydata = [points[i].y for i in firstindex(points):lastindex(points)]\n",
    "    i_start = findmin(ydata)\n",
    "    convex_shell = [i_start[2]]\n",
    "    ort_base = (x=oneunit(T), y=zero(T))\n",
    "\n",
    "    while next!(convex_shell, points, ort_base) != i_start[2]\n",
    "        ort_base = points[convex_shell[end]] - points[convex_shell[end-1]]\n",
    "    end\n",
    "\n",
    "    pop!(convex_shell)\n",
    "\n",
    "    return points[convex_shell]\n",
    "end\n",
    "\n",
    "println(\"Алгоритм Джарвиса: \", jarvis!( [\n",
    "        (x=0.0,y=0.0),\n",
    "        (x=5.0,y=1.0),\n",
    "        (x=4.0,y=3.0),\n",
    "        (x=1.0,y=9.0),\n",
    "        (x=-3.0,y=8.0),\n",
    "        (x=-5.0,y=2.0),\n",
    "        (x=-2.0,y=3.0),\n",
    "    ] ) )"
   ]
  },
  {
   "cell_type": "code",
   "execution_count": 8,
   "id": "ffb5d38e",
   "metadata": {},
   "outputs": [
    {
     "name": "stdout",
     "output_type": "stream",
     "text": [
      "Алгоритм Грехома: NamedTuple{(:x, :y), Tuple{Float64, Float64}}[(x = 0.0, y = 0.0), (x = -5.0, y = 2.0), (x = -2.0, y = 3.0), (x = 1.0, y = 9.0), (x = 4.0, y = 3.0), (x = 5.0, y = 1.0)]\n"
     ]
    }
   ],
   "source": [
    "#8. Написать функцию, реализующую алгоритм Грехома\n",
    "\n",
    "function grekhom!(points::AbstractArray{Vector2D{T}})::AbstractArray{Vector2D{T}} where T\n",
    "    ydata = (points[i].y for i in firstindex(points):lastindex(points))\n",
    "\n",
    "    i_start = findmin(ydata)\n",
    "\n",
    "    points[begin], points[i_start[2]] = points[i_start[2]], points[begin]\n",
    "\n",
    "    sort!(@view(points[begin + 1:end]), by=(point -> angle(point, (x=oneunit(T), y=zero(T)))))\n",
    "\n",
    "    push!(points, points[begin])\n",
    "\n",
    "    convex = [firstindex(points), firstindex(points) + 1, firstindex(points) + 2]\n",
    "\n",
    "    for i in firstindex(points)+3:lastindex(points)\n",
    "        while length(convex) > 1 && sign(points[i] - points[convex[end-2]], points[convex[end-1]] - points[convex[end-2]]) < 0\n",
    "            pop!(convex)\n",
    "        end\n",
    "\n",
    "        push!(convex, i)\n",
    "    end\n",
    "\n",
    "   \tpop!(convex)\n",
    "\n",
    "    return points[convex]\n",
    "end\n",
    "\n",
    "\n",
    "grekhom!(points::AbstractArray{Vector2D}) = jarvis!(points::AbstractArray{Vector2D})\n",
    "\n",
    "println(\"Алгоритм Грехома: \", grekhom!( [\n",
    "        (x=0.0,y=0.0),\n",
    "        (x=5.0,y=1.0),\n",
    "        (x=4.0,y=3.0),\n",
    "        (x=1.0,y=9.0),\n",
    "        (x=-3.0,y=8.0),\n",
    "        (x=-5.0,y=2.0),\n",
    "        (x=-2.0,y=3.0),\n",
    "    ] ) )"
   ]
  },
  {
   "cell_type": "code",
   "execution_count": 9,
   "id": "97741637",
   "metadata": {},
   "outputs": [
    {
     "name": "stdout",
     "output_type": "stream",
     "text": [
      "Площадь (Трапеция): -10.25\n"
     ]
    }
   ],
   "source": [
    "#9. Написать функцию вычисляющую площадь (ориентированную) заданного многоугольника методом трапеций.\n",
    "\n",
    "function area_trapeze(poly::AbstractArray{Vector2D{T}})::T where T\n",
    "    res = zero(T)\n",
    "\n",
    "    # area = (yk + yk+1)(xk+1 − xk)/2\n",
    "    for i in firstindex(poly):lastindex(poly)-1\n",
    "        res += (poly[i].y + poly[i+1].y) * (poly[i+1].x - poly[i].x) / 2\n",
    "    end\n",
    "\n",
    "    return res\n",
    "end\n",
    "\n",
    "println(\"Площадь (Трапеция): \",area_trapeze( [\n",
    "    (x=1.0,y=1.0),\n",
    "    (x=4.0,y=2.0),\n",
    "    (x=3.0,y=5.0),\n",
    "    (x=0.5,y=4.0),\n",
    "] ))"
   ]
  },
  {
   "cell_type": "code",
   "execution_count": 10,
   "id": "f9f3785d",
   "metadata": {},
   "outputs": [
    {
     "name": "stdout",
     "output_type": "stream",
     "text": [
      "Площадь (Треугольники): 4.5\n"
     ]
    },
    {
     "data": {
      "text/plain": [
       "\"C:\\\\Users\\\\timch\\\\jarvis.png\""
      ]
     },
     "execution_count": 10,
     "metadata": {},
     "output_type": "execute_result"
    }
   ],
   "source": [
    "#10.  Написать функцию вычисляющую площадь (ориентированную) заданного многоугольника методом треугольников.\n",
    "\n",
    "function area_triangle(poly::AbstractArray{Vector2D{T}})::T where T\n",
    "    res = zero(T)\n",
    "\n",
    "    # area = (yk + yk+1)(xk+1 − xk)/2\n",
    "    for i in firstindex(poly)+1:lastindex(poly)-1\n",
    "        res += xdot(poly[i] - (poly[1]), poly[i+1] - poly[1])\n",
    "    end\n",
    "\n",
    "    return res\n",
    "end\n",
    "\n",
    "println(\"Площадь (Треугольники): \",area_triangle( [\n",
    "    (x=3.0,y=1.0),\n",
    "    (x=1.0,y=2.0),\n",
    "    (x=0.0,y=1.0),\n",
    "    (x=1.0,y=0.5),\n",
    "] ))\n",
    "\n",
    "draw([(x=0,y=2),\n",
    "(x=1,y=-1),\n",
    "(x=-1,y=-1)])\n",
    "\n",
    "draw((x=0,y=1))\n",
    "\n",
    "draw((x=2,y=2))\n",
    "\n",
    "draw((x=-2,y=2))\n",
    "\n",
    "savefig(\"tri.png\") \n",
    "\n",
    "clear()\n",
    "\n",
    "draw([(x=-5,y=-5),\n",
    "(x=-5,y=5),\n",
    "(x=5,y=5),\n",
    "(x=5,y=-5)])\n",
    "\n",
    "draw((x=-1,y=0))\n",
    "\n",
    "draw((x=1,y=0))\n",
    "\n",
    "savefig(\"rect.png\") \n",
    "\n",
    "clear()\n",
    "\n",
    "draw( grekhom!( [ \n",
    "    (x=0,y=0),\n",
    "    (x=5,y=1),\n",
    "    (x=4,y=3),\n",
    "    (x=1,y=9),\n",
    "    (x=0,y=5),\n",
    "    (x=1,y=4),\n",
    "    (x=-3,y=8),\n",
    "    (x=-5,y=2),\n",
    "    (x=-2,y=3),\n",
    "] ) )\n",
    "\n",
    "draw((x=0,y=0))\n",
    "draw((x=5,y=1))\n",
    "draw((x=4,y=3))\n",
    "draw((x=1,y=9))\n",
    "draw((x=0,y=5))\n",
    "draw((x=1,y=4))\n",
    "draw((x=-3,y=8))\n",
    "draw((x=-5,y=2))\n",
    "draw((x=-2,y=3))\n",
    "\n",
    "savefig(\"grekhom.png\")\n",
    "\n",
    "clear()\n",
    "\n",
    "draw( jarvis!( [\n",
    "    (x=0,y=0),\n",
    "    (x=5,y=1),\n",
    "    (x=4,y=3),\n",
    "    (x=1,y=9),\n",
    "    (x=0,y=5),\n",
    "    (x=1,y=4),\n",
    "    (x=-3,y=8),\n",
    "    (x=-5,y=2),\n",
    "    (x=-2,y=3),\n",
    "] ) )\n",
    "\n",
    "draw((x=0,y=0))\n",
    "draw((x=5,y=1))\n",
    "draw((x=4,y=3))\n",
    "draw((x=1,y=9))\n",
    "draw((x=0,y=5))\n",
    "draw((x=1,y=4))\n",
    "draw((x=-3,y=8))\n",
    "draw((x=-5,y=2))\n",
    "draw((x=-2,y=3))\n",
    "\n",
    "savefig(\"jarvis.png\")"
   ]
  },
  {
   "cell_type": "code",
   "execution_count": null,
   "id": "0c331dcf",
   "metadata": {},
   "outputs": [],
   "source": []
  }
 ],
 "metadata": {
  "kernelspec": {
   "display_name": "Julia 1.8.1",
   "language": "julia",
   "name": "julia-1.8"
  },
  "language_info": {
   "file_extension": ".jl",
   "mimetype": "application/julia",
   "name": "julia",
   "version": "1.8.1"
  }
 },
 "nbformat": 4,
 "nbformat_minor": 5
}
