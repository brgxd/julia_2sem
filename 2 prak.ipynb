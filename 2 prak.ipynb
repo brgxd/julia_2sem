{
 "cells": [
  {
   "cell_type": "code",
   "execution_count": 2,
   "id": "5f587d4f",
   "metadata": {},
   "outputs": [
    {
     "name": "stdout",
     "output_type": "stream",
     "text": [
      "32\n"
     ]
    }
   ],
   "source": [
    "function binpow(a::Float64, n::Float64)\n",
    "    if (n==0)\n",
    "        return 1\n",
    "    end\n",
    "    if (n%2==1)\n",
    "        return binpow(a,n-1)*a\n",
    "    else\n",
    "        b=binpow(a,n/2)\n",
    "        return b*b\n",
    "    end\n",
    "end\n",
    "\n",
    "\n",
    "function non_rec_binpow(a::Int64, n::Int64)\n",
    "    res=1                                   \n",
    "    while n>0                               \n",
    "        if n%2!=0                           \n",
    "            res*=a                          \n",
    "        end \n",
    "        a*=a                                \n",
    "        n=div(n,2)                          \n",
    "    end\n",
    "    return res                  \n",
    "end\n",
    "\n",
    "\n",
    "\n",
    "println(non_rec_binpow(2,5))"
   ]
  },
  {
   "cell_type": "code",
   "execution_count": null,
   "id": "04aa5086",
   "metadata": {},
   "outputs": [],
   "source": []
  }
 ],
 "metadata": {
  "kernelspec": {
   "display_name": "Julia 1.8.1",
   "language": "julia",
   "name": "julia-1.8"
  },
  "language_info": {
   "file_extension": ".jl",
   "mimetype": "application/julia",
   "name": "julia",
   "version": "1.8.1"
  }
 },
 "nbformat": 4,
 "nbformat_minor": 5
}
