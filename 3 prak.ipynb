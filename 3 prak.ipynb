{
 "cells": [
  {
   "cell_type": "code",
   "execution_count": 1,
   "id": "d53111a7",
   "metadata": {},
   "outputs": [
    {
     "name": "stdout",
     "output_type": "stream",
     "text": [
      "false\n"
     ]
    }
   ],
   "source": [
    "#1 Написать функцию, осуществлющую проверку, является ли заданное целое число простым\n",
    "\n",
    "function isprime(n::IntType) where IntType <: Integer # является ли число простым\n",
    "    for d in 2:IntType(ceil(sqrt(n)))\n",
    "        if n % d == 0\n",
    "            return false\n",
    "        end\n",
    "    end\n",
    "    return true\n",
    "end\n",
    "\n",
    "println(isprime(561))"
   ]
  },
  {
   "cell_type": "code",
   "execution_count": 2,
   "id": "ef647b34",
   "metadata": {},
   "outputs": [
    {
     "data": {
      "text/plain": [
       "eratosphenes_sieve (generic function with 1 method)"
      ]
     },
     "execution_count": 2,
     "metadata": {},
     "output_type": "execute_result"
    }
   ],
   "source": [
    "#2 Написать функцию, реализующую \"решето\" Эратосфена, т.е. возвращающую вектор всех простых чисел, не превосходящих заданное \n",
    "#число.\n",
    "\n",
    "function eratosphenes_sieve(n::Integer)\n",
    "    prime_indexes = ones(Bool, n)\n",
    "    prime_indexes[begin] = false\n",
    "    i = 2\n",
    "    prime_indexes[i^2:i:n] .= false \n",
    "    i=3\n",
    "    while i <= n\n",
    "        prime_indexes[i^2:2i:n] .= false\n",
    "   \n",
    "        i+=1\n",
    "        while i <= n && prime_indexes[i] == false\n",
    "            i+=1\n",
    "        end\n",
    "    end\n",
    "    return findall(prime_indexes)\n",
    "end"
   ]
  },
  {
   "cell_type": "code",
   "execution_count": 3,
   "id": "a5f862a5",
   "metadata": {},
   "outputs": [
    {
     "data": {
      "text/plain": [
       "degree (generic function with 1 method)"
      ]
     },
     "execution_count": 3,
     "metadata": {},
     "output_type": "execute_result"
    }
   ],
   "source": [
    "#3  Написать функцию, осуществляющую разложение заданное целое число на степени его простых делителей.\n",
    "\n",
    "function factorize(n::IntType) where IntType <: Integer\n",
    "    list = NamedTuple{(:div, :deg), Tuple{IntType, IntType}}[]\n",
    "    for p in eratosphenes_sieve(Int(ceil(n/2)))\n",
    "        k = degree(n, p) # кратность делителя\n",
    "        if k > 0\n",
    "            push!(list, (div=p, deg=k))\n",
    "        end\n",
    "    end\n",
    "    return list\n",
    "end\n",
    "\n",
    "function degree(n, p) # кратность делителя `p` числа `n`\n",
    "    k=0\n",
    "    n, r = divrem(n,p)\n",
    "    while n > 0 && r == 0\n",
    "        k += 1\n",
    "        n, r = divrem(n,p)\n",
    "    end\n",
    "    return k\n",
    "end"
   ]
  },
  {
   "cell_type": "code",
   "execution_count": 4,
   "id": "3b920ee1",
   "metadata": {},
   "outputs": [
    {
     "data": {
      "text/plain": [
       "meanstd (generic function with 1 method)"
      ]
     },
     "execution_count": 4,
     "metadata": {},
     "output_type": "execute_result"
    }
   ],
   "source": [
    "#4 Реализлвать функцию, осуществляющую вычисление сренего квадратического отклонения (от среднего значения) заданного \n",
    "# числового массива за один проход этого массива.\n",
    "\n",
    "function meanstd(aaa)\n",
    "    T = eltype(aaa)\n",
    "    n = 0; s_first = zero(T); s_second = zero(T)\n",
    "    for a in aaa\n",
    "        n += 1; s_first += a; s_second += a*a\n",
    "    end\n",
    "    mean = s_first/n\n",
    "    return mean, sqrt(s_second/n - mean*mean)\n",
    "end"
   ]
  },
  {
   "cell_type": "code",
   "execution_count": null,
   "id": "3110ed4c",
   "metadata": {},
   "outputs": [],
   "source": []
  }
 ],
 "metadata": {
  "kernelspec": {
   "display_name": "Julia 1.8.1",
   "language": "julia",
   "name": "julia-1.8"
  },
  "language_info": {
   "file_extension": ".jl",
   "mimetype": "application/julia",
   "name": "julia",
   "version": "1.8.1"
  }
 },
 "nbformat": 4,
 "nbformat_minor": 5
}
